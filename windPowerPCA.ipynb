{
  "nbformat": 4,
  "nbformat_minor": 0,
  "metadata": {
    "colab": {
      "name": "windPower.ipynb",
      "provenance": [],
      "authorship_tag": "ABX9TyNhsrcuSN9y+7nN83aAYinq",
      "include_colab_link": true
    },
    "kernelspec": {
      "name": "python3",
      "display_name": "Python 3"
    }
  },
  "cells": [
    {
      "cell_type": "markdown",
      "metadata": {
        "id": "view-in-github",
        "colab_type": "text"
      },
      "source": [
        "<a href=\"https://colab.research.google.com/github/glosophy/WindPowerForecasting/blob/main/windPowerPCA.ipynb\" target=\"_parent\"><img src=\"https://colab.research.google.com/assets/colab-badge.svg\" alt=\"Open In Colab\"/></a>"
      ]
    },
    {
      "cell_type": "code",
      "metadata": {
        "colab": {
          "base_uri": "https://localhost:8080/"
        },
        "id": "yHpY_uVBOCui",
        "outputId": "3d79bd27-32a8-4c16-ba4a-a344b00d179f"
      },
      "source": [
        "# Update Kaggle API:\n",
        "!pip install --upgrade -q kaggle\n",
        "\n",
        "# Create a new folder for Kaggle config file:\n",
        "!mkdir /root/.kaggle"
      ],
      "execution_count": 1,
      "outputs": [
        {
          "output_type": "stream",
          "text": [
            "\u001b[?25l\r\u001b[K     |█████▌                          | 10kB 14.7MB/s eta 0:00:01\r\u001b[K     |███████████                     | 20kB 10.0MB/s eta 0:00:01\r\u001b[K     |████████████████▋               | 30kB 6.8MB/s eta 0:00:01\r\u001b[K     |██████████████████████▏         | 40kB 3.0MB/s eta 0:00:01\r\u001b[K     |███████████████████████████▊    | 51kB 3.6MB/s eta 0:00:01\r\u001b[K     |████████████████████████████████| 61kB 2.9MB/s \n",
            "\u001b[?25h  Building wheel for kaggle (setup.py) ... \u001b[?25l\u001b[?25hdone\n"
          ],
          "name": "stdout"
        }
      ]
    },
    {
      "cell_type": "code",
      "metadata": {
        "id": "Gr1DwjllOgha"
      },
      "source": [
        "import json\n",
        "\n",
        "token = {\n",
        "    \"username\": \"gsutters\",\n",
        "    \"key\": \"xxxxxxxxxxxxxxxxxxx\"\n",
        "}\n",
        "\n",
        "with open('/root/.kaggle/kaggle.json', 'w') as config_file:\n",
        "    json.dump(token, config_file)"
      ],
      "execution_count": 2,
      "outputs": []
    },
    {
      "cell_type": "code",
      "metadata": {
        "id": "feMUmiS5OqBV"
      },
      "source": [
        "# Provide access to Kaggle config file:\n",
        "!chmod 600 /root/.kaggle/kaggle.json"
      ],
      "execution_count": 3,
      "outputs": []
    },
    {
      "cell_type": "code",
      "metadata": {
        "colab": {
          "base_uri": "https://localhost:8080/"
        },
        "id": "kSOdcewdOshI",
        "outputId": "c210b182-6317-42f0-8569-a5fe646e1d5c"
      },
      "source": [
        "!kaggle datasets download -d theforcecoder/wind-power-forecasting"
      ],
      "execution_count": 4,
      "outputs": [
        {
          "output_type": "stream",
          "text": [
            "Downloading wind-power-forecasting.zip to /content\n",
            " 67% 5.00M/7.51M [00:02<00:01, 2.59MB/s]\n",
            "100% 7.51M/7.51M [00:02<00:00, 3.87MB/s]\n"
          ],
          "name": "stdout"
        }
      ]
    },
    {
      "cell_type": "code",
      "metadata": {
        "id": "6iJtnYd2O2Lc"
      },
      "source": [
        "import zipfile\n",
        "\n",
        "with zipfile.ZipFile('wind-power-forecasting.zip',\"r\") as zip_ref:\n",
        "    zip_ref.extractall(\"data\")"
      ],
      "execution_count": 5,
      "outputs": []
    },
    {
      "cell_type": "code",
      "metadata": {
        "id": "arV0jJ0hQB4L"
      },
      "source": [
        "import pandas as pd\n",
        "import numpy as np\n",
        "\n",
        "df = pd.read_csv('data/Turbine_Data.csv', parse_dates=[\"Unnamed: 0\"])"
      ],
      "execution_count": 6,
      "outputs": []
    },
    {
      "cell_type": "code",
      "metadata": {
        "id": "K3gjphkpTCNU"
      },
      "source": [
        "df['DateTime'] = df['Unnamed: 0'] \n",
        "df.drop('Unnamed: 0', axis=1, inplace=True)"
      ],
      "execution_count": 7,
      "outputs": []
    },
    {
      "cell_type": "code",
      "metadata": {
        "id": "HatTrjAVTd6E"
      },
      "source": [
        "# Add datetime parameters \n",
        "df['DateTime'] = pd.to_datetime(df['DateTime'], \n",
        " format = '%Y-%m-%dT%H:%M:%SZ', \n",
        " errors = 'coerce')"
      ],
      "execution_count": 8,
      "outputs": []
    },
    {
      "cell_type": "code",
      "metadata": {
        "colab": {
          "base_uri": "https://localhost:8080/",
          "height": 609
        },
        "id": "rbXcBAguRRix",
        "outputId": "d36cc2f1-f4cf-40e6-911a-16bbc196c720"
      },
      "source": [
        "df"
      ],
      "execution_count": 9,
      "outputs": [
        {
          "output_type": "execute_result",
          "data": {
            "text/html": [
              "<div>\n",
              "<style scoped>\n",
              "    .dataframe tbody tr th:only-of-type {\n",
              "        vertical-align: middle;\n",
              "    }\n",
              "\n",
              "    .dataframe tbody tr th {\n",
              "        vertical-align: top;\n",
              "    }\n",
              "\n",
              "    .dataframe thead th {\n",
              "        text-align: right;\n",
              "    }\n",
              "</style>\n",
              "<table border=\"1\" class=\"dataframe\">\n",
              "  <thead>\n",
              "    <tr style=\"text-align: right;\">\n",
              "      <th></th>\n",
              "      <th>ActivePower</th>\n",
              "      <th>AmbientTemperatue</th>\n",
              "      <th>BearingShaftTemperature</th>\n",
              "      <th>Blade1PitchAngle</th>\n",
              "      <th>Blade2PitchAngle</th>\n",
              "      <th>Blade3PitchAngle</th>\n",
              "      <th>ControlBoxTemperature</th>\n",
              "      <th>GearboxBearingTemperature</th>\n",
              "      <th>GearboxOilTemperature</th>\n",
              "      <th>GeneratorRPM</th>\n",
              "      <th>GeneratorWinding1Temperature</th>\n",
              "      <th>GeneratorWinding2Temperature</th>\n",
              "      <th>HubTemperature</th>\n",
              "      <th>MainBoxTemperature</th>\n",
              "      <th>NacellePosition</th>\n",
              "      <th>ReactivePower</th>\n",
              "      <th>RotorRPM</th>\n",
              "      <th>TurbineStatus</th>\n",
              "      <th>WTG</th>\n",
              "      <th>WindDirection</th>\n",
              "      <th>WindSpeed</th>\n",
              "      <th>DateTime</th>\n",
              "    </tr>\n",
              "  </thead>\n",
              "  <tbody>\n",
              "    <tr>\n",
              "      <th>0</th>\n",
              "      <td>NaN</td>\n",
              "      <td>NaN</td>\n",
              "      <td>NaN</td>\n",
              "      <td>NaN</td>\n",
              "      <td>NaN</td>\n",
              "      <td>NaN</td>\n",
              "      <td>NaN</td>\n",
              "      <td>NaN</td>\n",
              "      <td>NaN</td>\n",
              "      <td>NaN</td>\n",
              "      <td>NaN</td>\n",
              "      <td>NaN</td>\n",
              "      <td>NaN</td>\n",
              "      <td>NaN</td>\n",
              "      <td>NaN</td>\n",
              "      <td>NaN</td>\n",
              "      <td>NaN</td>\n",
              "      <td>NaN</td>\n",
              "      <td>G01</td>\n",
              "      <td>NaN</td>\n",
              "      <td>NaN</td>\n",
              "      <td>2017-12-31 00:00:00+00:00</td>\n",
              "    </tr>\n",
              "    <tr>\n",
              "      <th>1</th>\n",
              "      <td>NaN</td>\n",
              "      <td>NaN</td>\n",
              "      <td>NaN</td>\n",
              "      <td>NaN</td>\n",
              "      <td>NaN</td>\n",
              "      <td>NaN</td>\n",
              "      <td>NaN</td>\n",
              "      <td>NaN</td>\n",
              "      <td>NaN</td>\n",
              "      <td>NaN</td>\n",
              "      <td>NaN</td>\n",
              "      <td>NaN</td>\n",
              "      <td>NaN</td>\n",
              "      <td>NaN</td>\n",
              "      <td>NaN</td>\n",
              "      <td>NaN</td>\n",
              "      <td>NaN</td>\n",
              "      <td>NaN</td>\n",
              "      <td>G01</td>\n",
              "      <td>NaN</td>\n",
              "      <td>NaN</td>\n",
              "      <td>2017-12-31 00:10:00+00:00</td>\n",
              "    </tr>\n",
              "    <tr>\n",
              "      <th>2</th>\n",
              "      <td>NaN</td>\n",
              "      <td>NaN</td>\n",
              "      <td>NaN</td>\n",
              "      <td>NaN</td>\n",
              "      <td>NaN</td>\n",
              "      <td>NaN</td>\n",
              "      <td>NaN</td>\n",
              "      <td>NaN</td>\n",
              "      <td>NaN</td>\n",
              "      <td>NaN</td>\n",
              "      <td>NaN</td>\n",
              "      <td>NaN</td>\n",
              "      <td>NaN</td>\n",
              "      <td>NaN</td>\n",
              "      <td>NaN</td>\n",
              "      <td>NaN</td>\n",
              "      <td>NaN</td>\n",
              "      <td>NaN</td>\n",
              "      <td>G01</td>\n",
              "      <td>NaN</td>\n",
              "      <td>NaN</td>\n",
              "      <td>2017-12-31 00:20:00+00:00</td>\n",
              "    </tr>\n",
              "    <tr>\n",
              "      <th>3</th>\n",
              "      <td>NaN</td>\n",
              "      <td>NaN</td>\n",
              "      <td>NaN</td>\n",
              "      <td>NaN</td>\n",
              "      <td>NaN</td>\n",
              "      <td>NaN</td>\n",
              "      <td>NaN</td>\n",
              "      <td>NaN</td>\n",
              "      <td>NaN</td>\n",
              "      <td>NaN</td>\n",
              "      <td>NaN</td>\n",
              "      <td>NaN</td>\n",
              "      <td>NaN</td>\n",
              "      <td>NaN</td>\n",
              "      <td>NaN</td>\n",
              "      <td>NaN</td>\n",
              "      <td>NaN</td>\n",
              "      <td>NaN</td>\n",
              "      <td>G01</td>\n",
              "      <td>NaN</td>\n",
              "      <td>NaN</td>\n",
              "      <td>2017-12-31 00:30:00+00:00</td>\n",
              "    </tr>\n",
              "    <tr>\n",
              "      <th>4</th>\n",
              "      <td>NaN</td>\n",
              "      <td>NaN</td>\n",
              "      <td>NaN</td>\n",
              "      <td>NaN</td>\n",
              "      <td>NaN</td>\n",
              "      <td>NaN</td>\n",
              "      <td>NaN</td>\n",
              "      <td>NaN</td>\n",
              "      <td>NaN</td>\n",
              "      <td>NaN</td>\n",
              "      <td>NaN</td>\n",
              "      <td>NaN</td>\n",
              "      <td>NaN</td>\n",
              "      <td>NaN</td>\n",
              "      <td>NaN</td>\n",
              "      <td>NaN</td>\n",
              "      <td>NaN</td>\n",
              "      <td>NaN</td>\n",
              "      <td>G01</td>\n",
              "      <td>NaN</td>\n",
              "      <td>NaN</td>\n",
              "      <td>2017-12-31 00:40:00+00:00</td>\n",
              "    </tr>\n",
              "    <tr>\n",
              "      <th>...</th>\n",
              "      <td>...</td>\n",
              "      <td>...</td>\n",
              "      <td>...</td>\n",
              "      <td>...</td>\n",
              "      <td>...</td>\n",
              "      <td>...</td>\n",
              "      <td>...</td>\n",
              "      <td>...</td>\n",
              "      <td>...</td>\n",
              "      <td>...</td>\n",
              "      <td>...</td>\n",
              "      <td>...</td>\n",
              "      <td>...</td>\n",
              "      <td>...</td>\n",
              "      <td>...</td>\n",
              "      <td>...</td>\n",
              "      <td>...</td>\n",
              "      <td>...</td>\n",
              "      <td>...</td>\n",
              "      <td>...</td>\n",
              "      <td>...</td>\n",
              "      <td>...</td>\n",
              "    </tr>\n",
              "    <tr>\n",
              "      <th>118219</th>\n",
              "      <td>70.044465</td>\n",
              "      <td>27.523741</td>\n",
              "      <td>45.711129</td>\n",
              "      <td>1.515669</td>\n",
              "      <td>1.950088</td>\n",
              "      <td>1.950088</td>\n",
              "      <td>0.0</td>\n",
              "      <td>59.821165</td>\n",
              "      <td>55.193793</td>\n",
              "      <td>1029.870744</td>\n",
              "      <td>59.060367</td>\n",
              "      <td>58.148777</td>\n",
              "      <td>39.008931</td>\n",
              "      <td>36.476562</td>\n",
              "      <td>178.0</td>\n",
              "      <td>13.775785</td>\n",
              "      <td>9.234004</td>\n",
              "      <td>2.0</td>\n",
              "      <td>G01</td>\n",
              "      <td>178.0</td>\n",
              "      <td>3.533445</td>\n",
              "      <td>2020-03-30 23:10:00+00:00</td>\n",
              "    </tr>\n",
              "    <tr>\n",
              "      <th>118220</th>\n",
              "      <td>40.833474</td>\n",
              "      <td>27.602882</td>\n",
              "      <td>45.598573</td>\n",
              "      <td>1.702809</td>\n",
              "      <td>2.136732</td>\n",
              "      <td>2.136732</td>\n",
              "      <td>0.0</td>\n",
              "      <td>59.142038</td>\n",
              "      <td>54.798545</td>\n",
              "      <td>1030.160478</td>\n",
              "      <td>58.452003</td>\n",
              "      <td>57.550367</td>\n",
              "      <td>39.006759</td>\n",
              "      <td>36.328125</td>\n",
              "      <td>178.0</td>\n",
              "      <td>8.088928</td>\n",
              "      <td>9.229370</td>\n",
              "      <td>2.0</td>\n",
              "      <td>G01</td>\n",
              "      <td>178.0</td>\n",
              "      <td>3.261231</td>\n",
              "      <td>2020-03-30 23:20:00+00:00</td>\n",
              "    </tr>\n",
              "    <tr>\n",
              "      <th>118221</th>\n",
              "      <td>20.777790</td>\n",
              "      <td>27.560925</td>\n",
              "      <td>45.462045</td>\n",
              "      <td>1.706214</td>\n",
              "      <td>2.139664</td>\n",
              "      <td>2.139664</td>\n",
              "      <td>0.0</td>\n",
              "      <td>58.439439</td>\n",
              "      <td>54.380456</td>\n",
              "      <td>1030.137822</td>\n",
              "      <td>58.034071</td>\n",
              "      <td>57.099335</td>\n",
              "      <td>39.003815</td>\n",
              "      <td>36.131944</td>\n",
              "      <td>178.0</td>\n",
              "      <td>4.355978</td>\n",
              "      <td>9.236802</td>\n",
              "      <td>2.0</td>\n",
              "      <td>G01</td>\n",
              "      <td>178.0</td>\n",
              "      <td>3.331839</td>\n",
              "      <td>2020-03-30 23:30:00+00:00</td>\n",
              "    </tr>\n",
              "    <tr>\n",
              "      <th>118222</th>\n",
              "      <td>62.091039</td>\n",
              "      <td>27.810472</td>\n",
              "      <td>45.343827</td>\n",
              "      <td>1.575352</td>\n",
              "      <td>2.009781</td>\n",
              "      <td>2.009781</td>\n",
              "      <td>0.0</td>\n",
              "      <td>58.205413</td>\n",
              "      <td>54.079014</td>\n",
              "      <td>1030.178178</td>\n",
              "      <td>57.795387</td>\n",
              "      <td>56.847239</td>\n",
              "      <td>39.003815</td>\n",
              "      <td>36.007805</td>\n",
              "      <td>190.0</td>\n",
              "      <td>12.018077</td>\n",
              "      <td>9.237374</td>\n",
              "      <td>2.0</td>\n",
              "      <td>G01</td>\n",
              "      <td>190.0</td>\n",
              "      <td>3.284468</td>\n",
              "      <td>2020-03-30 23:40:00+00:00</td>\n",
              "    </tr>\n",
              "    <tr>\n",
              "      <th>118223</th>\n",
              "      <td>68.664425</td>\n",
              "      <td>27.915828</td>\n",
              "      <td>45.231610</td>\n",
              "      <td>1.499323</td>\n",
              "      <td>1.933124</td>\n",
              "      <td>1.933124</td>\n",
              "      <td>0.0</td>\n",
              "      <td>58.581716</td>\n",
              "      <td>54.080505</td>\n",
              "      <td>1029.834789</td>\n",
              "      <td>57.694813</td>\n",
              "      <td>56.741040</td>\n",
              "      <td>39.003815</td>\n",
              "      <td>35.914062</td>\n",
              "      <td>203.0</td>\n",
              "      <td>14.439669</td>\n",
              "      <td>9.235532</td>\n",
              "      <td>2.0</td>\n",
              "      <td>G01</td>\n",
              "      <td>203.0</td>\n",
              "      <td>3.475205</td>\n",
              "      <td>2020-03-30 23:50:00+00:00</td>\n",
              "    </tr>\n",
              "  </tbody>\n",
              "</table>\n",
              "<p>118224 rows × 22 columns</p>\n",
              "</div>"
            ],
            "text/plain": [
              "        ActivePower  AmbientTemperatue  ...  WindSpeed                  DateTime\n",
              "0               NaN                NaN  ...        NaN 2017-12-31 00:00:00+00:00\n",
              "1               NaN                NaN  ...        NaN 2017-12-31 00:10:00+00:00\n",
              "2               NaN                NaN  ...        NaN 2017-12-31 00:20:00+00:00\n",
              "3               NaN                NaN  ...        NaN 2017-12-31 00:30:00+00:00\n",
              "4               NaN                NaN  ...        NaN 2017-12-31 00:40:00+00:00\n",
              "...             ...                ...  ...        ...                       ...\n",
              "118219    70.044465          27.523741  ...   3.533445 2020-03-30 23:10:00+00:00\n",
              "118220    40.833474          27.602882  ...   3.261231 2020-03-30 23:20:00+00:00\n",
              "118221    20.777790          27.560925  ...   3.331839 2020-03-30 23:30:00+00:00\n",
              "118222    62.091039          27.810472  ...   3.284468 2020-03-30 23:40:00+00:00\n",
              "118223    68.664425          27.915828  ...   3.475205 2020-03-30 23:50:00+00:00\n",
              "\n",
              "[118224 rows x 22 columns]"
            ]
          },
          "metadata": {
            "tags": []
          },
          "execution_count": 9
        }
      ]
    },
    {
      "cell_type": "code",
      "metadata": {
        "colab": {
          "base_uri": "https://localhost:8080/"
        },
        "id": "U3Fw3A5chjEs",
        "outputId": "6c77d21c-558b-4502-eecc-1f2fdb7656ae"
      },
      "source": [
        "# Check for missing values in the dataframe\n",
        "df.isnull().sum()"
      ],
      "execution_count": 10,
      "outputs": [
        {
          "output_type": "execute_result",
          "data": {
            "text/plain": [
              "ActivePower                     23474\n",
              "AmbientTemperatue               24407\n",
              "BearingShaftTemperature         55706\n",
              "Blade1PitchAngle                76228\n",
              "Blade2PitchAngle                76333\n",
              "Blade3PitchAngle                76333\n",
              "ControlBoxTemperature           56064\n",
              "GearboxBearingTemperature       55684\n",
              "GearboxOilTemperature           55786\n",
              "GeneratorRPM                    55929\n",
              "GeneratorWinding1Temperature    55797\n",
              "GeneratorWinding2Temperature    55775\n",
              "HubTemperature                  55818\n",
              "MainBoxTemperature              55717\n",
              "NacellePosition                 45946\n",
              "ReactivePower                   23476\n",
              "RotorRPM                        56097\n",
              "TurbineStatus                   55316\n",
              "WTG                                 0\n",
              "WindDirection                   45946\n",
              "WindSpeed                       23629\n",
              "DateTime                            0\n",
              "dtype: int64"
            ]
          },
          "metadata": {
            "tags": []
          },
          "execution_count": 10
        }
      ]
    },
    {
      "cell_type": "code",
      "metadata": {
        "colab": {
          "base_uri": "https://localhost:8080/"
        },
        "id": "d1Zk89enRSrb",
        "outputId": "2c0599e1-2926-4624-b82d-aa3d4fd64c12"
      },
      "source": [
        "df.apply(pd.Series.first_valid_index)"
      ],
      "execution_count": 11,
      "outputs": [
        {
          "output_type": "execute_result",
          "data": {
            "text/plain": [
              "ActivePower                       144\n",
              "AmbientTemperatue                 144\n",
              "BearingShaftTemperature         33065\n",
              "Blade1PitchAngle                70789\n",
              "Blade2PitchAngle                70789\n",
              "Blade3PitchAngle                70789\n",
              "ControlBoxTemperature           33065\n",
              "GearboxBearingTemperature       33065\n",
              "GearboxOilTemperature           33065\n",
              "GeneratorRPM                    33065\n",
              "GeneratorWinding1Temperature    33065\n",
              "GeneratorWinding2Temperature    33065\n",
              "HubTemperature                  33065\n",
              "MainBoxTemperature              33065\n",
              "NacellePosition                   144\n",
              "ReactivePower                     144\n",
              "RotorRPM                        33065\n",
              "TurbineStatus                   33073\n",
              "WTG                                 0\n",
              "WindDirection                     144\n",
              "WindSpeed                         144\n",
              "DateTime                            0\n",
              "dtype: int64"
            ]
          },
          "metadata": {
            "tags": []
          },
          "execution_count": 11
        }
      ]
    },
    {
      "cell_type": "code",
      "metadata": {
        "id": "uGUQrqc4Zio3"
      },
      "source": [
        "df = df.iloc[33065:]"
      ],
      "execution_count": 12,
      "outputs": []
    },
    {
      "cell_type": "code",
      "metadata": {
        "colab": {
          "base_uri": "https://localhost:8080/"
        },
        "id": "B_ssIl-4S6bd",
        "outputId": "7c1ccfc2-de21-4df7-cf53-32b4f39bf784"
      },
      "source": [
        "df.apply(pd.Series.first_valid_index)"
      ],
      "execution_count": 13,
      "outputs": [
        {
          "output_type": "execute_result",
          "data": {
            "text/plain": [
              "ActivePower                     33065\n",
              "AmbientTemperatue               33065\n",
              "BearingShaftTemperature         33065\n",
              "Blade1PitchAngle                70789\n",
              "Blade2PitchAngle                70789\n",
              "Blade3PitchAngle                70789\n",
              "ControlBoxTemperature           33065\n",
              "GearboxBearingTemperature       33065\n",
              "GearboxOilTemperature           33065\n",
              "GeneratorRPM                    33065\n",
              "GeneratorWinding1Temperature    33065\n",
              "GeneratorWinding2Temperature    33065\n",
              "HubTemperature                  33065\n",
              "MainBoxTemperature              33065\n",
              "NacellePosition                 33361\n",
              "ReactivePower                   33065\n",
              "RotorRPM                        33065\n",
              "TurbineStatus                   33073\n",
              "WTG                             33065\n",
              "WindDirection                   33361\n",
              "WindSpeed                       33361\n",
              "DateTime                        33065\n",
              "dtype: int64"
            ]
          },
          "metadata": {
            "tags": []
          },
          "execution_count": 13
        }
      ]
    },
    {
      "cell_type": "code",
      "metadata": {
        "id": "zsH46ICnS9jF"
      },
      "source": [
        "# Drop Blade1PitchAngle columns due to high number of missing values\n",
        "df = df.drop(['Blade1PitchAngle', 'Blade2PitchAngle', 'Blade3PitchAngle'], 1)"
      ],
      "execution_count": 14,
      "outputs": []
    },
    {
      "cell_type": "code",
      "metadata": {
        "colab": {
          "base_uri": "https://localhost:8080/"
        },
        "id": "O9ajVClhVOLK",
        "outputId": "5d9544f0-4cb6-4ef9-8e1f-df733396a9db"
      },
      "source": [
        "# Replace missing values with the median\n",
        "df.fillna(df.mean(), inplace=True)"
      ],
      "execution_count": 15,
      "outputs": [
        {
          "output_type": "stream",
          "text": [
            "/usr/local/lib/python3.6/dist-packages/ipykernel_launcher.py:2: FutureWarning: DataFrame.mean and DataFrame.median with numeric_only=None will include datetime64 and datetime64tz columns in a future version.\n",
            "  \n"
          ],
          "name": "stderr"
        }
      ]
    },
    {
      "cell_type": "code",
      "metadata": {
        "colab": {
          "base_uri": "https://localhost:8080/"
        },
        "id": "47S1VGeEWJHr",
        "outputId": "9916bc7b-f250-4d47-a967-bc24db5a2ec5"
      },
      "source": [
        "# Check again for missing values in the dataframe\n",
        "df.isnull().sum()"
      ],
      "execution_count": 16,
      "outputs": [
        {
          "output_type": "execute_result",
          "data": {
            "text/plain": [
              "ActivePower                     0\n",
              "AmbientTemperatue               0\n",
              "BearingShaftTemperature         0\n",
              "ControlBoxTemperature           0\n",
              "GearboxBearingTemperature       0\n",
              "GearboxOilTemperature           0\n",
              "GeneratorRPM                    0\n",
              "GeneratorWinding1Temperature    0\n",
              "GeneratorWinding2Temperature    0\n",
              "HubTemperature                  0\n",
              "MainBoxTemperature              0\n",
              "NacellePosition                 0\n",
              "ReactivePower                   0\n",
              "RotorRPM                        0\n",
              "TurbineStatus                   0\n",
              "WTG                             0\n",
              "WindDirection                   0\n",
              "WindSpeed                       0\n",
              "DateTime                        0\n",
              "dtype: int64"
            ]
          },
          "metadata": {
            "tags": []
          },
          "execution_count": 16
        }
      ]
    },
    {
      "cell_type": "code",
      "metadata": {
        "colab": {
          "base_uri": "https://localhost:8080/"
        },
        "id": "lM0DofdOY68z",
        "outputId": "3d889428-06db-452d-ae15-0bf8ec12c773"
      },
      "source": [
        "df.info()"
      ],
      "execution_count": 17,
      "outputs": [
        {
          "output_type": "stream",
          "text": [
            "<class 'pandas.core.frame.DataFrame'>\n",
            "RangeIndex: 85159 entries, 33065 to 118223\n",
            "Data columns (total 19 columns):\n",
            " #   Column                        Non-Null Count  Dtype              \n",
            "---  ------                        --------------  -----              \n",
            " 0   ActivePower                   85159 non-null  float64            \n",
            " 1   AmbientTemperatue             85159 non-null  float64            \n",
            " 2   BearingShaftTemperature       85159 non-null  float64            \n",
            " 3   ControlBoxTemperature         85159 non-null  float64            \n",
            " 4   GearboxBearingTemperature     85159 non-null  float64            \n",
            " 5   GearboxOilTemperature         85159 non-null  float64            \n",
            " 6   GeneratorRPM                  85159 non-null  float64            \n",
            " 7   GeneratorWinding1Temperature  85159 non-null  float64            \n",
            " 8   GeneratorWinding2Temperature  85159 non-null  float64            \n",
            " 9   HubTemperature                85159 non-null  float64            \n",
            " 10  MainBoxTemperature            85159 non-null  float64            \n",
            " 11  NacellePosition               85159 non-null  float64            \n",
            " 12  ReactivePower                 85159 non-null  float64            \n",
            " 13  RotorRPM                      85159 non-null  float64            \n",
            " 14  TurbineStatus                 85159 non-null  float64            \n",
            " 15  WTG                           85159 non-null  object             \n",
            " 16  WindDirection                 85159 non-null  float64            \n",
            " 17  WindSpeed                     85159 non-null  float64            \n",
            " 18  DateTime                      85159 non-null  datetime64[ns, UTC]\n",
            "dtypes: datetime64[ns, UTC](1), float64(17), object(1)\n",
            "memory usage: 12.3+ MB\n"
          ],
          "name": "stdout"
        }
      ]
    },
    {
      "cell_type": "code",
      "metadata": {
        "colab": {
          "base_uri": "https://localhost:8080/",
          "height": 317
        },
        "id": "VpTO4HgGhokB",
        "outputId": "b2577272-dab8-4fb9-c6bd-78bb7c2ba809"
      },
      "source": [
        "df.describe()"
      ],
      "execution_count": 18,
      "outputs": [
        {
          "output_type": "execute_result",
          "data": {
            "text/html": [
              "<div>\n",
              "<style scoped>\n",
              "    .dataframe tbody tr th:only-of-type {\n",
              "        vertical-align: middle;\n",
              "    }\n",
              "\n",
              "    .dataframe tbody tr th {\n",
              "        vertical-align: top;\n",
              "    }\n",
              "\n",
              "    .dataframe thead th {\n",
              "        text-align: right;\n",
              "    }\n",
              "</style>\n",
              "<table border=\"1\" class=\"dataframe\">\n",
              "  <thead>\n",
              "    <tr style=\"text-align: right;\">\n",
              "      <th></th>\n",
              "      <th>ActivePower</th>\n",
              "      <th>AmbientTemperatue</th>\n",
              "      <th>BearingShaftTemperature</th>\n",
              "      <th>ControlBoxTemperature</th>\n",
              "      <th>GearboxBearingTemperature</th>\n",
              "      <th>GearboxOilTemperature</th>\n",
              "      <th>GeneratorRPM</th>\n",
              "      <th>GeneratorWinding1Temperature</th>\n",
              "      <th>GeneratorWinding2Temperature</th>\n",
              "      <th>HubTemperature</th>\n",
              "      <th>MainBoxTemperature</th>\n",
              "      <th>NacellePosition</th>\n",
              "      <th>ReactivePower</th>\n",
              "      <th>RotorRPM</th>\n",
              "      <th>TurbineStatus</th>\n",
              "      <th>WindDirection</th>\n",
              "      <th>WindSpeed</th>\n",
              "    </tr>\n",
              "  </thead>\n",
              "  <tbody>\n",
              "    <tr>\n",
              "      <th>count</th>\n",
              "      <td>85159.000000</td>\n",
              "      <td>85159.000000</td>\n",
              "      <td>85159.000000</td>\n",
              "      <td>85159.0</td>\n",
              "      <td>85159.000000</td>\n",
              "      <td>85159.000000</td>\n",
              "      <td>85159.000000</td>\n",
              "      <td>85159.000000</td>\n",
              "      <td>85159.000000</td>\n",
              "      <td>85159.000000</td>\n",
              "      <td>85159.000000</td>\n",
              "      <td>85159.000000</td>\n",
              "      <td>85159.000000</td>\n",
              "      <td>85159.000000</td>\n",
              "      <td>8.515900e+04</td>\n",
              "      <td>85159.000000</td>\n",
              "      <td>85159.000000</td>\n",
              "    </tr>\n",
              "    <tr>\n",
              "      <th>mean</th>\n",
              "      <td>592.143554</td>\n",
              "      <td>28.586534</td>\n",
              "      <td>43.010189</td>\n",
              "      <td>0.0</td>\n",
              "      <td>64.234170</td>\n",
              "      <td>57.561217</td>\n",
              "      <td>1102.026269</td>\n",
              "      <td>72.460403</td>\n",
              "      <td>71.826659</td>\n",
              "      <td>36.897978</td>\n",
              "      <td>39.547603</td>\n",
              "      <td>195.152751</td>\n",
              "      <td>93.619100</td>\n",
              "      <td>9.907500</td>\n",
              "      <td>2.280429e+03</td>\n",
              "      <td>195.152751</td>\n",
              "      <td>5.767499</td>\n",
              "    </tr>\n",
              "    <tr>\n",
              "      <th>std</th>\n",
              "      <td>556.373120</td>\n",
              "      <td>4.063762</td>\n",
              "      <td>4.751298</td>\n",
              "      <td>0.0</td>\n",
              "      <td>8.960039</td>\n",
              "      <td>5.414931</td>\n",
              "      <td>451.644680</td>\n",
              "      <td>19.373424</td>\n",
              "      <td>19.396334</td>\n",
              "      <td>4.433213</td>\n",
              "      <td>4.911494</td>\n",
              "      <td>67.109293</td>\n",
              "      <td>112.726405</td>\n",
              "      <td>4.030145</td>\n",
              "      <td>3.082131e+05</td>\n",
              "      <td>67.109293</td>\n",
              "      <td>2.337791</td>\n",
              "    </tr>\n",
              "    <tr>\n",
              "      <th>min</th>\n",
              "      <td>-38.524659</td>\n",
              "      <td>0.000000</td>\n",
              "      <td>0.000000</td>\n",
              "      <td>0.0</td>\n",
              "      <td>0.000000</td>\n",
              "      <td>0.000000</td>\n",
              "      <td>0.000000</td>\n",
              "      <td>0.000000</td>\n",
              "      <td>0.000000</td>\n",
              "      <td>0.000000</td>\n",
              "      <td>0.000000</td>\n",
              "      <td>0.000000</td>\n",
              "      <td>-203.182591</td>\n",
              "      <td>0.000000</td>\n",
              "      <td>0.000000e+00</td>\n",
              "      <td>0.000000</td>\n",
              "      <td>0.900000</td>\n",
              "    </tr>\n",
              "    <tr>\n",
              "      <th>25%</th>\n",
              "      <td>113.648610</td>\n",
              "      <td>25.836771</td>\n",
              "      <td>40.807190</td>\n",
              "      <td>0.0</td>\n",
              "      <td>60.786960</td>\n",
              "      <td>55.361786</td>\n",
              "      <td>1030.167910</td>\n",
              "      <td>59.110914</td>\n",
              "      <td>58.329310</td>\n",
              "      <td>34.997323</td>\n",
              "      <td>37.312502</td>\n",
              "      <td>171.560714</td>\n",
              "      <td>-0.200445</td>\n",
              "      <td>9.239688</td>\n",
              "      <td>2.000000e+00</td>\n",
              "      <td>171.560714</td>\n",
              "      <td>4.082245</td>\n",
              "    </tr>\n",
              "    <tr>\n",
              "      <th>50%</th>\n",
              "      <td>491.483464</td>\n",
              "      <td>28.586534</td>\n",
              "      <td>43.010189</td>\n",
              "      <td>0.0</td>\n",
              "      <td>64.234170</td>\n",
              "      <td>57.561217</td>\n",
              "      <td>1102.026269</td>\n",
              "      <td>72.460403</td>\n",
              "      <td>71.826659</td>\n",
              "      <td>36.897978</td>\n",
              "      <td>39.547603</td>\n",
              "      <td>195.152751</td>\n",
              "      <td>63.481413</td>\n",
              "      <td>9.907500</td>\n",
              "      <td>2.000000e+00</td>\n",
              "      <td>195.152751</td>\n",
              "      <td>5.767499</td>\n",
              "    </tr>\n",
              "    <tr>\n",
              "      <th>75%</th>\n",
              "      <td>874.487750</td>\n",
              "      <td>30.910038</td>\n",
              "      <td>45.308444</td>\n",
              "      <td>0.0</td>\n",
              "      <td>68.220102</td>\n",
              "      <td>59.259065</td>\n",
              "      <td>1352.317195</td>\n",
              "      <td>75.204749</td>\n",
              "      <td>74.578276</td>\n",
              "      <td>39.005678</td>\n",
              "      <td>41.791809</td>\n",
              "      <td>195.152751</td>\n",
              "      <td>135.920239</td>\n",
              "      <td>12.124603</td>\n",
              "      <td>2.280429e+03</td>\n",
              "      <td>195.152751</td>\n",
              "      <td>7.022570</td>\n",
              "    </tr>\n",
              "    <tr>\n",
              "      <th>max</th>\n",
              "      <td>1779.032433</td>\n",
              "      <td>42.405597</td>\n",
              "      <td>55.088655</td>\n",
              "      <td>0.0</td>\n",
              "      <td>82.237932</td>\n",
              "      <td>70.764581</td>\n",
              "      <td>1809.941700</td>\n",
              "      <td>126.773031</td>\n",
              "      <td>126.043018</td>\n",
              "      <td>47.996185</td>\n",
              "      <td>54.250000</td>\n",
              "      <td>357.000000</td>\n",
              "      <td>403.713620</td>\n",
              "      <td>16.273495</td>\n",
              "      <td>6.574653e+07</td>\n",
              "      <td>357.000000</td>\n",
              "      <td>22.970893</td>\n",
              "    </tr>\n",
              "  </tbody>\n",
              "</table>\n",
              "</div>"
            ],
            "text/plain": [
              "        ActivePower  AmbientTemperatue  ...  WindDirection     WindSpeed\n",
              "count  85159.000000       85159.000000  ...   85159.000000  85159.000000\n",
              "mean     592.143554          28.586534  ...     195.152751      5.767499\n",
              "std      556.373120           4.063762  ...      67.109293      2.337791\n",
              "min      -38.524659           0.000000  ...       0.000000      0.900000\n",
              "25%      113.648610          25.836771  ...     171.560714      4.082245\n",
              "50%      491.483464          28.586534  ...     195.152751      5.767499\n",
              "75%      874.487750          30.910038  ...     195.152751      7.022570\n",
              "max     1779.032433          42.405597  ...     357.000000     22.970893\n",
              "\n",
              "[8 rows x 17 columns]"
            ]
          },
          "metadata": {
            "tags": []
          },
          "execution_count": 18
        }
      ]
    },
    {
      "cell_type": "code",
      "metadata": {
        "colab": {
          "base_uri": "https://localhost:8080/"
        },
        "id": "nur3kGZqY66A",
        "outputId": "47ab9a82-b093-44a6-afb4-147a30660d7e"
      },
      "source": [
        "# Check WTG column\n",
        "df['WTG'].unique()"
      ],
      "execution_count": 19,
      "outputs": [
        {
          "output_type": "execute_result",
          "data": {
            "text/plain": [
              "array(['G01'], dtype=object)"
            ]
          },
          "metadata": {
            "tags": []
          },
          "execution_count": 19
        }
      ]
    },
    {
      "cell_type": "code",
      "metadata": {
        "id": "37LRXg9GeLnz"
      },
      "source": [
        "# Drop WTG column because it doesn't add much\n",
        "df.drop('WTG', axis=1, inplace=True)"
      ],
      "execution_count": 20,
      "outputs": []
    },
    {
      "cell_type": "code",
      "metadata": {
        "colab": {
          "base_uri": "https://localhost:8080/"
        },
        "id": "GPMNnlfTeZ9O",
        "outputId": "80b47ffa-4f04-4439-ae3b-5b752f4d080a"
      },
      "source": [
        "# Last check at the rest of the columns: Are they categorical?\n",
        "for i in df.columns:\n",
        "  if len(df[i].unique()) < 5:\n",
        "    print('Column {} might be categorical. It has only {} unique values: {}'.format(i, len(df[i].unique()), df[i].unique()))"
      ],
      "execution_count": 21,
      "outputs": [
        {
          "output_type": "stream",
          "text": [
            "Column ControlBoxTemperature might be categorical. It has only 1 unique values: [0.]\n"
          ],
          "name": "stdout"
        }
      ]
    },
    {
      "cell_type": "code",
      "metadata": {
        "id": "BY_1i1DqgR_u"
      },
      "source": [
        "# Drop ControlBoxTemperature column because it doesn't add much\n",
        "df.drop('ControlBoxTemperature', axis=1, inplace=True)"
      ],
      "execution_count": 22,
      "outputs": []
    },
    {
      "cell_type": "code",
      "metadata": {
        "colab": {
          "base_uri": "https://localhost:8080/",
          "height": 1000
        },
        "id": "RY8NtUhVWXtx",
        "outputId": "a3a56c8f-35ed-40dd-e863-1b4e1750fcce"
      },
      "source": [
        "import numpy as np\n",
        "import matplotlib.pyplot as plt\n",
        "import seaborn as sns\n",
        "\n",
        "# Check for correlations with the dependent variable\n",
        "matrix1 = np.triu(df.corr())\n",
        "plt.figure(figsize=(15, 15))\n",
        "sns.heatmap(df.corr(), annot=True, vmax=1, vmin=-1, mask=matrix1)\n",
        "plt.title(\"Feature Correlations\")\n",
        "plt.show()"
      ],
      "execution_count": 23,
      "outputs": [
        {
          "output_type": "display_data",
          "data": {
            "image/png": "[encoded data removed]",
            "text/plain": [
              "<Figure size 1080x1080 with 2 Axes>"
            ]
          },
          "metadata": {
            "tags": [],
            "needs_background": "light"
          }
        }
      ]
    },
    {
      "cell_type": "code",
      "metadata": {
        "id": "_Y4ZB3E2h9wX"
      },
      "source": [
        "columns = ['DateTime', 'ActivePower', 'WindSpeed', 'RotorRPM', 'ReactivePower', 'GeneratorWinding1Temperature', 'GeneratorWinding2Temperature', 'GeneratorRPM', 'GearboxBearingTemperature', 'GearboxOilTemperature']\n",
        "\n",
        "data = df[columns].copy()"
      ],
      "execution_count": 24,
      "outputs": []
    },
    {
      "cell_type": "code",
      "metadata": {
        "colab": {
          "base_uri": "https://localhost:8080/"
        },
        "id": "T4maApjPjXiO",
        "outputId": "3d2e39e7-8d21-4eb6-d35f-983935922a25"
      },
      "source": [
        "# Check the significance of the correlation coefficient with a t-test\n",
        "def corr_coef(x, y):\n",
        "    '''It returns the correlation coefficient for two given series'''\n",
        "\n",
        "    x_mean = np.mean(x)\n",
        "    y_mean = np.mean(y)\n",
        "\n",
        "    numerator = np.sum((x - x_mean) * (y - y_mean))\n",
        "    denominator = np.sqrt(np.sum((x - x_mean) * (x - x_mean))) * np.sqrt(np.sum((y - y_mean) * (y - y_mean)))\n",
        "\n",
        "    r = numerator / denominator\n",
        "\n",
        "    return r\n",
        "\n",
        "\n",
        "def t_value(n, r, k):\n",
        "    '''It returns the critical t-value'''\n",
        "\n",
        "    num = n -2 - k\n",
        "    den = 1 - (r ** 2)\n",
        "\n",
        "    t_value = r * np.sqrt(num / den)\n",
        "\n",
        "    return t_value\n",
        "\n",
        "\n",
        "var = ['ActivePower', 'WindSpeed', 'RotorRPM', 'ReactivePower', 'GeneratorWinding1Temperature', \n",
        "       'GeneratorWinding2Temperature', 'GeneratorRPM', 'GearboxBearingTemperature', 'GearboxOilTemperature']\n",
        "\n",
        "for i in var:\n",
        "  for j in var:\n",
        "    if i != j:\n",
        "      corr = corr_coef(data[i], data[j])\n",
        "      t = t_value(len(data), corr, 1)\n",
        "\n",
        "      print('Correlation coefficient {} and {}: {}'.format(i, j, round(corr, 3)))\n",
        "      print('T-value of {} and {}: {}'.format(i, j, round(t)))\n",
        "      print(' ')\n",
        "      print('--'*12)\n",
        "      print(' ')\n"
      ],
      "execution_count": 25,
      "outputs": [
        {
          "output_type": "stream",
          "text": [
            "Correlation coefficient ActivePower and WindSpeed: 0.929\n",
            "T-value of ActivePower and WindSpeed: 734.0\n",
            " \n",
            "------------------------\n",
            " \n",
            "Correlation coefficient ActivePower and RotorRPM: 0.791\n",
            "T-value of ActivePower and RotorRPM: 378.0\n",
            " \n",
            "------------------------\n",
            " \n",
            "Correlation coefficient ActivePower and ReactivePower: 0.835\n",
            "T-value of ActivePower and ReactivePower: 442.0\n",
            " \n",
            "------------------------\n",
            " \n",
            "Correlation coefficient ActivePower and GeneratorWinding1Temperature: 0.869\n",
            "T-value of ActivePower and GeneratorWinding1Temperature: 513.0\n",
            " \n",
            "------------------------\n",
            " \n",
            "Correlation coefficient ActivePower and GeneratorWinding2Temperature: 0.87\n",
            "T-value of ActivePower and GeneratorWinding2Temperature: 515.0\n",
            " \n",
            "------------------------\n",
            " \n",
            "Correlation coefficient ActivePower and GeneratorRPM: 0.792\n",
            "T-value of ActivePower and GeneratorRPM: 379.0\n",
            " \n",
            "------------------------\n",
            " \n",
            "Correlation coefficient ActivePower and GearboxBearingTemperature: 0.728\n",
            "T-value of ActivePower and GearboxBearingTemperature: 310.0\n",
            " \n",
            "------------------------\n",
            " \n",
            "Correlation coefficient ActivePower and GearboxOilTemperature: 0.758\n",
            "T-value of ActivePower and GearboxOilTemperature: 339.0\n",
            " \n",
            "------------------------\n",
            " \n",
            "Correlation coefficient WindSpeed and ActivePower: 0.929\n",
            "T-value of WindSpeed and ActivePower: 734.0\n",
            " \n",
            "------------------------\n",
            " \n",
            "Correlation coefficient WindSpeed and RotorRPM: 0.794\n",
            "T-value of WindSpeed and RotorRPM: 381.0\n",
            " \n",
            "------------------------\n",
            " \n",
            "Correlation coefficient WindSpeed and ReactivePower: 0.803\n",
            "T-value of WindSpeed and ReactivePower: 393.0\n",
            " \n",
            "------------------------\n",
            " \n",
            "Correlation coefficient WindSpeed and GeneratorWinding1Temperature: 0.83\n",
            "T-value of WindSpeed and GeneratorWinding1Temperature: 434.0\n",
            " \n",
            "------------------------\n",
            " \n",
            "Correlation coefficient WindSpeed and GeneratorWinding2Temperature: 0.831\n",
            "T-value of WindSpeed and GeneratorWinding2Temperature: 436.0\n",
            " \n",
            "------------------------\n",
            " \n",
            "Correlation coefficient WindSpeed and GeneratorRPM: 0.795\n",
            "T-value of WindSpeed and GeneratorRPM: 382.0\n",
            " \n",
            "------------------------\n",
            " \n",
            "Correlation coefficient WindSpeed and GearboxBearingTemperature: 0.714\n",
            "T-value of WindSpeed and GearboxBearingTemperature: 298.0\n",
            " \n",
            "------------------------\n",
            " \n",
            "Correlation coefficient WindSpeed and GearboxOilTemperature: 0.74\n",
            "T-value of WindSpeed and GearboxOilTemperature: 321.0\n",
            " \n",
            "------------------------\n",
            " \n",
            "Correlation coefficient RotorRPM and ActivePower: 0.791\n",
            "T-value of RotorRPM and ActivePower: 378.0\n",
            " \n",
            "------------------------\n",
            " \n",
            "Correlation coefficient RotorRPM and WindSpeed: 0.794\n",
            "T-value of RotorRPM and WindSpeed: 381.0\n",
            " \n",
            "------------------------\n",
            " \n",
            "Correlation coefficient RotorRPM and ReactivePower: 0.71\n",
            "T-value of RotorRPM and ReactivePower: 294.0\n",
            " \n",
            "------------------------\n",
            " \n",
            "Correlation coefficient RotorRPM and GeneratorWinding1Temperature: 0.793\n",
            "T-value of RotorRPM and GeneratorWinding1Temperature: 380.0\n",
            " \n",
            "------------------------\n",
            " \n",
            "Correlation coefficient RotorRPM and GeneratorWinding2Temperature: 0.791\n",
            "T-value of RotorRPM and GeneratorWinding2Temperature: 378.0\n",
            " \n",
            "------------------------\n",
            " \n",
            "Correlation coefficient RotorRPM and GeneratorRPM: 0.993\n",
            "T-value of RotorRPM and GeneratorRPM: 2423.0\n",
            " \n",
            "------------------------\n",
            " \n",
            "Correlation coefficient RotorRPM and GearboxBearingTemperature: 0.794\n",
            "T-value of RotorRPM and GearboxBearingTemperature: 381.0\n",
            " \n",
            "------------------------\n",
            " \n",
            "Correlation coefficient RotorRPM and GearboxOilTemperature: 0.797\n",
            "T-value of RotorRPM and GearboxOilTemperature: 385.0\n",
            " \n",
            "------------------------\n",
            " \n",
            "Correlation coefficient ReactivePower and ActivePower: 0.835\n",
            "T-value of ReactivePower and ActivePower: 442.0\n",
            " \n",
            "------------------------\n",
            " \n",
            "Correlation coefficient ReactivePower and WindSpeed: 0.803\n",
            "T-value of ReactivePower and WindSpeed: 393.0\n",
            " \n",
            "------------------------\n",
            " \n",
            "Correlation coefficient ReactivePower and RotorRPM: 0.71\n",
            "T-value of ReactivePower and RotorRPM: 294.0\n",
            " \n",
            "------------------------\n",
            " \n",
            "Correlation coefficient ReactivePower and GeneratorWinding1Temperature: 0.777\n",
            "T-value of ReactivePower and GeneratorWinding1Temperature: 360.0\n",
            " \n",
            "------------------------\n",
            " \n",
            "Correlation coefficient ReactivePower and GeneratorWinding2Temperature: 0.777\n",
            "T-value of ReactivePower and GeneratorWinding2Temperature: 360.0\n",
            " \n",
            "------------------------\n",
            " \n",
            "Correlation coefficient ReactivePower and GeneratorRPM: 0.712\n",
            "T-value of ReactivePower and GeneratorRPM: 296.0\n",
            " \n",
            "------------------------\n",
            " \n",
            "Correlation coefficient ReactivePower and GearboxBearingTemperature: 0.666\n",
            "T-value of ReactivePower and GearboxBearingTemperature: 261.0\n",
            " \n",
            "------------------------\n",
            " \n",
            "Correlation coefficient ReactivePower and GearboxOilTemperature: 0.709\n",
            "T-value of ReactivePower and GearboxOilTemperature: 293.0\n",
            " \n",
            "------------------------\n",
            " \n",
            "Correlation coefficient GeneratorWinding1Temperature and ActivePower: 0.869\n",
            "T-value of GeneratorWinding1Temperature and ActivePower: 513.0\n",
            " \n",
            "------------------------\n",
            " \n",
            "Correlation coefficient GeneratorWinding1Temperature and WindSpeed: 0.83\n",
            "T-value of GeneratorWinding1Temperature and WindSpeed: 434.0\n",
            " \n",
            "------------------------\n",
            " \n",
            "Correlation coefficient GeneratorWinding1Temperature and RotorRPM: 0.793\n",
            "T-value of GeneratorWinding1Temperature and RotorRPM: 380.0\n",
            " \n",
            "------------------------\n",
            " \n",
            "Correlation coefficient GeneratorWinding1Temperature and ReactivePower: 0.777\n",
            "T-value of GeneratorWinding1Temperature and ReactivePower: 360.0\n",
            " \n",
            "------------------------\n",
            " \n",
            "Correlation coefficient GeneratorWinding1Temperature and GeneratorWinding2Temperature: 0.997\n",
            "T-value of GeneratorWinding1Temperature and GeneratorWinding2Temperature: 4106.0\n",
            " \n",
            "------------------------\n",
            " \n",
            "Correlation coefficient GeneratorWinding1Temperature and GeneratorRPM: 0.794\n",
            "T-value of GeneratorWinding1Temperature and GeneratorRPM: 381.0\n",
            " \n",
            "------------------------\n",
            " \n",
            "Correlation coefficient GeneratorWinding1Temperature and GearboxBearingTemperature: 0.803\n",
            "T-value of GeneratorWinding1Temperature and GearboxBearingTemperature: 393.0\n",
            " \n",
            "------------------------\n",
            " \n",
            "Correlation coefficient GeneratorWinding1Temperature and GearboxOilTemperature: 0.898\n",
            "T-value of GeneratorWinding1Temperature and GearboxOilTemperature: 596.0\n",
            " \n",
            "------------------------\n",
            " \n",
            "Correlation coefficient GeneratorWinding2Temperature and ActivePower: 0.87\n",
            "T-value of GeneratorWinding2Temperature and ActivePower: 515.0\n",
            " \n",
            "------------------------\n",
            " \n",
            "Correlation coefficient GeneratorWinding2Temperature and WindSpeed: 0.831\n",
            "T-value of GeneratorWinding2Temperature and WindSpeed: 436.0\n",
            " \n",
            "------------------------\n",
            " \n",
            "Correlation coefficient GeneratorWinding2Temperature and RotorRPM: 0.791\n",
            "T-value of GeneratorWinding2Temperature and RotorRPM: 378.0\n",
            " \n",
            "------------------------\n",
            " \n",
            "Correlation coefficient GeneratorWinding2Temperature and ReactivePower: 0.777\n",
            "T-value of GeneratorWinding2Temperature and ReactivePower: 360.0\n",
            " \n",
            "------------------------\n",
            " \n",
            "Correlation coefficient GeneratorWinding2Temperature and GeneratorWinding1Temperature: 0.997\n",
            "T-value of GeneratorWinding2Temperature and GeneratorWinding1Temperature: 4106.0\n",
            " \n",
            "------------------------\n",
            " \n",
            "Correlation coefficient GeneratorWinding2Temperature and GeneratorRPM: 0.793\n",
            "T-value of GeneratorWinding2Temperature and GeneratorRPM: 380.0\n",
            " \n",
            "------------------------\n",
            " \n",
            "Correlation coefficient GeneratorWinding2Temperature and GearboxBearingTemperature: 0.802\n",
            "T-value of GeneratorWinding2Temperature and GearboxBearingTemperature: 391.0\n",
            " \n",
            "------------------------\n",
            " \n",
            "Correlation coefficient GeneratorWinding2Temperature and GearboxOilTemperature: 0.896\n",
            "T-value of GeneratorWinding2Temperature and GearboxOilTemperature: 590.0\n",
            " \n",
            "------------------------\n",
            " \n",
            "Correlation coefficient GeneratorRPM and ActivePower: 0.792\n",
            "T-value of GeneratorRPM and ActivePower: 379.0\n",
            " \n",
            "------------------------\n",
            " \n",
            "Correlation coefficient GeneratorRPM and WindSpeed: 0.795\n",
            "T-value of GeneratorRPM and WindSpeed: 382.0\n",
            " \n",
            "------------------------\n",
            " \n",
            "Correlation coefficient GeneratorRPM and RotorRPM: 0.993\n",
            "T-value of GeneratorRPM and RotorRPM: 2423.0\n",
            " \n",
            "------------------------\n",
            " \n",
            "Correlation coefficient GeneratorRPM and ReactivePower: 0.712\n",
            "T-value of GeneratorRPM and ReactivePower: 296.0\n",
            " \n",
            "------------------------\n",
            " \n",
            "Correlation coefficient GeneratorRPM and GeneratorWinding1Temperature: 0.794\n",
            "T-value of GeneratorRPM and GeneratorWinding1Temperature: 381.0\n",
            " \n",
            "------------------------\n",
            " \n",
            "Correlation coefficient GeneratorRPM and GeneratorWinding2Temperature: 0.793\n",
            "T-value of GeneratorRPM and GeneratorWinding2Temperature: 380.0\n",
            " \n",
            "------------------------\n",
            " \n",
            "Correlation coefficient GeneratorRPM and GearboxBearingTemperature: 0.798\n",
            "T-value of GeneratorRPM and GearboxBearingTemperature: 386.0\n",
            " \n",
            "------------------------\n",
            " \n",
            "Correlation coefficient GeneratorRPM and GearboxOilTemperature: 0.801\n",
            "T-value of GeneratorRPM and GearboxOilTemperature: 391.0\n",
            " \n",
            "------------------------\n",
            " \n",
            "Correlation coefficient GearboxBearingTemperature and ActivePower: 0.728\n",
            "T-value of GearboxBearingTemperature and ActivePower: 310.0\n",
            " \n",
            "------------------------\n",
            " \n",
            "Correlation coefficient GearboxBearingTemperature and WindSpeed: 0.714\n",
            "T-value of GearboxBearingTemperature and WindSpeed: 298.0\n",
            " \n",
            "------------------------\n",
            " \n",
            "Correlation coefficient GearboxBearingTemperature and RotorRPM: 0.794\n",
            "T-value of GearboxBearingTemperature and RotorRPM: 381.0\n",
            " \n",
            "------------------------\n",
            " \n",
            "Correlation coefficient GearboxBearingTemperature and ReactivePower: 0.666\n",
            "T-value of GearboxBearingTemperature and ReactivePower: 261.0\n",
            " \n",
            "------------------------\n",
            " \n",
            "Correlation coefficient GearboxBearingTemperature and GeneratorWinding1Temperature: 0.803\n",
            "T-value of GearboxBearingTemperature and GeneratorWinding1Temperature: 393.0\n",
            " \n",
            "------------------------\n",
            " \n",
            "Correlation coefficient GearboxBearingTemperature and GeneratorWinding2Temperature: 0.802\n",
            "T-value of GearboxBearingTemperature and GeneratorWinding2Temperature: 391.0\n",
            " \n",
            "------------------------\n",
            " \n",
            "Correlation coefficient GearboxBearingTemperature and GeneratorRPM: 0.798\n",
            "T-value of GearboxBearingTemperature and GeneratorRPM: 386.0\n",
            " \n",
            "------------------------\n",
            " \n",
            "Correlation coefficient GearboxBearingTemperature and GearboxOilTemperature: 0.853\n",
            "T-value of GearboxBearingTemperature and GearboxOilTemperature: 476.0\n",
            " \n",
            "------------------------\n",
            " \n",
            "Correlation coefficient GearboxOilTemperature and ActivePower: 0.758\n",
            "T-value of GearboxOilTemperature and ActivePower: 339.0\n",
            " \n",
            "------------------------\n",
            " \n",
            "Correlation coefficient GearboxOilTemperature and WindSpeed: 0.74\n",
            "T-value of GearboxOilTemperature and WindSpeed: 321.0\n",
            " \n",
            "------------------------\n",
            " \n",
            "Correlation coefficient GearboxOilTemperature and RotorRPM: 0.797\n",
            "T-value of GearboxOilTemperature and RotorRPM: 385.0\n",
            " \n",
            "------------------------\n",
            " \n",
            "Correlation coefficient GearboxOilTemperature and ReactivePower: 0.709\n",
            "T-value of GearboxOilTemperature and ReactivePower: 293.0\n",
            " \n",
            "------------------------\n",
            " \n",
            "Correlation coefficient GearboxOilTemperature and GeneratorWinding1Temperature: 0.898\n",
            "T-value of GearboxOilTemperature and GeneratorWinding1Temperature: 596.0\n",
            " \n",
            "------------------------\n",
            " \n",
            "Correlation coefficient GearboxOilTemperature and GeneratorWinding2Temperature: 0.896\n",
            "T-value of GearboxOilTemperature and GeneratorWinding2Temperature: 590.0\n",
            " \n",
            "------------------------\n",
            " \n",
            "Correlation coefficient GearboxOilTemperature and GeneratorRPM: 0.801\n",
            "T-value of GearboxOilTemperature and GeneratorRPM: 391.0\n",
            " \n",
            "------------------------\n",
            " \n",
            "Correlation coefficient GearboxOilTemperature and GearboxBearingTemperature: 0.853\n",
            "T-value of GearboxOilTemperature and GearboxBearingTemperature: 476.0\n",
            " \n",
            "------------------------\n",
            " \n"
          ],
          "name": "stdout"
        }
      ]
    },
    {
      "cell_type": "code",
      "metadata": {
        "id": "4BfR1WI8YC71"
      },
      "source": [
        "# Many of the features are correlated to each other. This is a common problem in data science and it is called “multicollinearity”.\n",
        "# In an ideal case features should be independent of each other. We will do Principal Components Analysis (PCA) to eliminate redundant feature.\n",
        "# Per the (PCA) result the least important features will be eliminated. This feature elimination step is important because using highly correlated feature \n",
        "# in multiple regression model can cause inaccurate results.  \n",
        "\n",
        "# Source: https://towardsdatascience.com/a-one-stop-shop-for-principal-component-analysis-5582fb7e0a9c\n",
        "\n",
        "features = ['WindSpeed', 'RotorRPM', 'ReactivePower', 'GeneratorWinding1Temperature', \n",
        "       'GeneratorWinding2Temperature', 'GeneratorRPM', 'GearboxBearingTemperature', 'GearboxOilTemperature']\n",
        "\n",
        "# Separate data into Y and X \n",
        "y = data['ActivePower']\n",
        "X = data[features]"
      ],
      "execution_count": 26,
      "outputs": []
    },
    {
      "cell_type": "code",
      "metadata": {
        "id": "F15T8j0P2jV7"
      },
      "source": [
        "# Take the matrix of independent variables X and, for each column, subtract the mean of that column from each entry. \n",
        "# (This ensures that each column has a mean of zero.)\n",
        "X.mean()\n",
        "\n",
        "X = X - X.mean()"
      ],
      "execution_count": 27,
      "outputs": []
    },
    {
      "cell_type": "code",
      "metadata": {
        "id": "yAW7cyyM29g7"
      },
      "source": [
        "# Normalize X\n",
        "Z = X / X.std()"
      ],
      "execution_count": 28,
      "outputs": []
    },
    {
      "cell_type": "code",
      "metadata": {
        "colab": {
          "base_uri": "https://localhost:8080/"
        },
        "id": "kSGRD_T_TDL9",
        "outputId": "1a54482e-b5d0-46fb-9968-8b5da122330f"
      },
      "source": [
        "# Check that the mean = 0 and the standard deviation = 1\n",
        "print('MEAN:')\n",
        "print(Z.mean())\n",
        "print('---'*15)\n",
        "print('STD:')\n",
        "print(Z.std())"
      ],
      "execution_count": 29,
      "outputs": [
        {
          "output_type": "stream",
          "text": [
            "MEAN:\n",
            "WindSpeed                      -2.748166e-13\n",
            "RotorRPM                       -3.202617e-13\n",
            "ReactivePower                   6.740396e-14\n",
            "GeneratorWinding1Temperature    8.343680e-14\n",
            "GeneratorWinding2Temperature    4.315093e-13\n",
            "GeneratorRPM                   -6.762472e-14\n",
            "GearboxBearingTemperature       2.111628e-13\n",
            "GearboxOilTemperature           4.562602e-13\n",
            "dtype: float64\n",
            "---------------------------------------------\n",
            "STD:\n",
            "WindSpeed                       1.0\n",
            "RotorRPM                        1.0\n",
            "ReactivePower                   1.0\n",
            "GeneratorWinding1Temperature    1.0\n",
            "GeneratorWinding2Temperature    1.0\n",
            "GeneratorRPM                    1.0\n",
            "GearboxBearingTemperature       1.0\n",
            "GearboxOilTemperature           1.0\n",
            "dtype: float64\n"
          ],
          "name": "stdout"
        }
      ]
    },
    {
      "cell_type": "code",
      "metadata": {
        "id": "kQIgpuj-3q0h"
      },
      "source": [
        "# Take the matrix Z, transpose it, and multiply the transposed matrix by Z.\n",
        "# This is the covariance matrix of Z\n",
        "Z = np.dot(Z.T, Z)"
      ],
      "execution_count": 30,
      "outputs": []
    },
    {
      "cell_type": "code",
      "metadata": {
        "id": "JG-0nHDe4br8"
      },
      "source": [
        "# w is assigned an array of computed eigenvalues.\n",
        "# v is assigned the matrix whose columns are the normalized eigenvectors corresponding to the eigenvalues in that order.\n",
        "eigenvalues, eigenvectors = np.linalg.eig(Z)"
      ],
      "execution_count": 31,
      "outputs": []
    },
    {
      "cell_type": "code",
      "metadata": {
        "id": "j1TykNech10G"
      },
      "source": [
        "D = np.diag(eigenvalues)\n",
        "P = eigenvectors"
      ],
      "execution_count": 32,
      "outputs": []
    },
    {
      "cell_type": "code",
      "metadata": {
        "colab": {
          "base_uri": "https://localhost:8080/"
        },
        "id": "WsCrzN-Jh15n",
        "outputId": "c42eb342-fed8-41ac-916b-1ce7c16080c9"
      },
      "source": [
        "eigenvalues"
      ],
      "execution_count": 33,
      "outputs": [
        {
          "output_type": "execute_result",
          "data": {
            "text/plain": [
              "array([5.64051743e+05, 3.90442921e+04, 3.51200405e+04, 1.93483215e+04,\n",
              "       1.47307352e+04, 8.14851638e+03, 6.08578703e+02, 2.11772492e+02])"
            ]
          },
          "metadata": {
            "tags": []
          },
          "execution_count": 33
        }
      ]
    },
    {
      "cell_type": "code",
      "metadata": {
        "id": "l1b7Grlvh127"
      },
      "source": [
        "# Calculate Z* = ZP*. This new matrix, Z*, is a centered/standardized version of X \n",
        "# but now each observation is a combination of the original variables, where the weights are determined by the eigenvector.\n",
        "Z_new = np.dot(Z, P)"
      ],
      "execution_count": 34,
      "outputs": []
    },
    {
      "cell_type": "code",
      "metadata": {
        "id": "4K6EY6hYh1xY"
      },
      "source": [
        "# How many features to keep versus how many to drop? SCREE PLOT!\n",
        "#1. Calculate the proportion of variance explained by each feature\n",
        "sum_eigenvalues = np.sum(eigenvalues)\n",
        "\n",
        "prop_var = [i/sum_eigenvalues for i in eigenvalues]\n",
        "\n",
        "#2. Calculate the cumulative variance\n",
        "cum_var = [np.sum(prop_var[:i+1]) for i in range(len(prop_var))]\n"
      ],
      "execution_count": 35,
      "outputs": []
    },
    {
      "cell_type": "code",
      "metadata": {
        "colab": {
          "base_uri": "https://localhost:8080/",
          "height": 295
        },
        "id": "tiZtdsz5S9cw",
        "outputId": "bd3046e4-0c95-44f2-ae28-8d762c23a1e7"
      },
      "source": [
        "# Plot scree plot from PCA\n",
        "x_labels = ['PC{}'.format(i+1) for i in range(len(prop_var))]\n",
        "\n",
        "plt.plot(x_labels, prop_var, marker='o', markersize=6, color='skyblue', linewidth=2, label='Proportion of variance')\n",
        "plt.plot(x_labels, cum_var, marker='o', color='orange', linewidth=2, label=\"Cumulative variance\")\n",
        "plt.legend()\n",
        "plt.title('Scree plot')\n",
        "plt.xlabel('Principal components')\n",
        "plt.ylabel('Proportion of variance')\n",
        "plt.show()\n"
      ],
      "execution_count": 36,
      "outputs": [
        {
          "output_type": "display_data",
          "data": {
            "image/png": "[encoded data removed]",
            "text/plain": [
              "<Figure size 432x288 with 1 Axes>"
            ]
          },
          "metadata": {
            "tags": [],
            "needs_background": "light"
          }
        }
      ]
    },
    {
      "cell_type": "code",
      "metadata": {
        "id": "BPnpWlWxufFI"
      },
      "source": [
        "Zdata = pd.DataFrame(Z_new)"
      ],
      "execution_count": 39,
      "outputs": []
    },
    {
      "cell_type": "code",
      "metadata": {
        "id": "0E42dnEY2rHI"
      },
      "source": [
        "Zdata.insert(0,'Features',features)"
      ],
      "execution_count": 40,
      "outputs": []
    },
    {
      "cell_type": "code",
      "metadata": {
        "id": "nflPMuSX3rfu"
      },
      "source": [
        "Zdata.columns = ['Features', 'PC1', 'PC2', 'PC3', 'PC4', 'PC5', 'PC6', 'PC7', 'PC8']"
      ],
      "execution_count": 42,
      "outputs": []
    },
    {
      "cell_type": "code",
      "metadata": {
        "colab": {
          "base_uri": "https://localhost:8080/",
          "height": 297
        },
        "id": "DjPGex1t3sQI",
        "outputId": "f4b5bc96-8c2a-4205-dded-b049e440648c"
      },
      "source": [
        "pd.options.display.float_format = \"{:,.2f}\".format\n",
        "\n",
        "Zdata"
      ],
      "execution_count": 43,
      "outputs": [
        {
          "output_type": "execute_result",
          "data": {
            "text/html": [
              "<div>\n",
              "<style scoped>\n",
              "    .dataframe tbody tr th:only-of-type {\n",
              "        vertical-align: middle;\n",
              "    }\n",
              "\n",
              "    .dataframe tbody tr th {\n",
              "        vertical-align: top;\n",
              "    }\n",
              "\n",
              "    .dataframe thead th {\n",
              "        text-align: right;\n",
              "    }\n",
              "</style>\n",
              "<table border=\"1\" class=\"dataframe\">\n",
              "  <thead>\n",
              "    <tr style=\"text-align: right;\">\n",
              "      <th></th>\n",
              "      <th>Features</th>\n",
              "      <th>PC1</th>\n",
              "      <th>PC2</th>\n",
              "      <th>PC3</th>\n",
              "      <th>PC4</th>\n",
              "      <th>PC5</th>\n",
              "      <th>PC6</th>\n",
              "      <th>PC7</th>\n",
              "      <th>PC8</th>\n",
              "    </tr>\n",
              "  </thead>\n",
              "  <tbody>\n",
              "    <tr>\n",
              "      <th>0</th>\n",
              "      <td>WindSpeed</td>\n",
              "      <td>-195,779.37</td>\n",
              "      <td>-9,456.09</td>\n",
              "      <td>-13,749.70</td>\n",
              "      <td>4,839.05</td>\n",
              "      <td>10,572.26</td>\n",
              "      <td>2,443.59</td>\n",
              "      <td>1.82</td>\n",
              "      <td>0.66</td>\n",
              "    </tr>\n",
              "    <tr>\n",
              "      <th>1</th>\n",
              "      <td>RotorRPM</td>\n",
              "      <td>-201,068.60</td>\n",
              "      <td>19,242.13</td>\n",
              "      <td>-9,996.67</td>\n",
              "      <td>2,533.20</td>\n",
              "      <td>-2,672.86</td>\n",
              "      <td>-551.54</td>\n",
              "      <td>427.14</td>\n",
              "      <td>-8.91</td>\n",
              "    </tr>\n",
              "    <tr>\n",
              "      <th>2</th>\n",
              "      <td>ReactivePower</td>\n",
              "      <td>-184,663.48</td>\n",
              "      <td>-19,258.63</td>\n",
              "      <td>-15,991.98</td>\n",
              "      <td>-10,701.11</td>\n",
              "      <td>-5,420.18</td>\n",
              "      <td>-243.63</td>\n",
              "      <td>0.35</td>\n",
              "      <td>0.06</td>\n",
              "    </tr>\n",
              "    <tr>\n",
              "      <th>3</th>\n",
              "      <td>GeneratorWinding1Temperature</td>\n",
              "      <td>-207,970.02</td>\n",
              "      <td>-10,483.61</td>\n",
              "      <td>9,487.65</td>\n",
              "      <td>6,234.44</td>\n",
              "      <td>-1,534.47</td>\n",
              "      <td>-2,591.47</td>\n",
              "      <td>21.66</td>\n",
              "      <td>150.03</td>\n",
              "    </tr>\n",
              "    <tr>\n",
              "      <th>4</th>\n",
              "      <td>GeneratorWinding2Temperature</td>\n",
              "      <td>-207,834.34</td>\n",
              "      <td>-10,674.79</td>\n",
              "      <td>9,392.22</td>\n",
              "      <td>6,271.25</td>\n",
              "      <td>-1,442.86</td>\n",
              "      <td>-2,658.90</td>\n",
              "      <td>-28.07</td>\n",
              "      <td>-148.95</td>\n",
              "    </tr>\n",
              "    <tr>\n",
              "      <th>5</th>\n",
              "      <td>GeneratorRPM</td>\n",
              "      <td>-201,450.08</td>\n",
              "      <td>19,194.92</td>\n",
              "      <td>-9,732.64</td>\n",
              "      <td>2,348.53</td>\n",
              "      <td>-2,623.05</td>\n",
              "      <td>-379.24</td>\n",
              "      <td>-431.96</td>\n",
              "      <td>8.37</td>\n",
              "    </tr>\n",
              "    <tr>\n",
              "      <th>6</th>\n",
              "      <td>GearboxBearingTemperature</td>\n",
              "      <td>-193,621.71</td>\n",
              "      <td>10,060.45</td>\n",
              "      <td>13,058.44</td>\n",
              "      <td>-12,045.56</td>\n",
              "      <td>6,755.46</td>\n",
              "      <td>-2,299.19</td>\n",
              "      <td>1.86</td>\n",
              "      <td>0.21</td>\n",
              "    </tr>\n",
              "    <tr>\n",
              "      <th>7</th>\n",
              "      <td>GearboxOilTemperature</td>\n",
              "      <td>-201,934.34</td>\n",
              "      <td>608.16</td>\n",
              "      <td>15,659.19</td>\n",
              "      <td>-1,096.49</td>\n",
              "      <td>-3,427.28</td>\n",
              "      <td>6,391.25</td>\n",
              "      <td>8.32</td>\n",
              "      <td>-1.58</td>\n",
              "    </tr>\n",
              "  </tbody>\n",
              "</table>\n",
              "</div>"
            ],
            "text/plain": [
              "                       Features         PC1  ...     PC7     PC8\n",
              "0                     WindSpeed -195,779.37  ...    1.82    0.66\n",
              "1                      RotorRPM -201,068.60  ...  427.14   -8.91\n",
              "2                 ReactivePower -184,663.48  ...    0.35    0.06\n",
              "3  GeneratorWinding1Temperature -207,970.02  ...   21.66  150.03\n",
              "4  GeneratorWinding2Temperature -207,834.34  ...  -28.07 -148.95\n",
              "5                  GeneratorRPM -201,450.08  ... -431.96    8.37\n",
              "6     GearboxBearingTemperature -193,621.71  ...    1.86    0.21\n",
              "7         GearboxOilTemperature -201,934.34  ...    8.32   -1.58\n",
              "\n",
              "[8 rows x 9 columns]"
            ]
          },
          "metadata": {
            "tags": []
          },
          "execution_count": 43
        }
      ]
    },
    {
      "cell_type": "code",
      "metadata": {
        "id": "i-XSf3IT4PR2"
      },
      "source": [
        ""
      ],
      "execution_count": null,
      "outputs": []
    }
  ]
}